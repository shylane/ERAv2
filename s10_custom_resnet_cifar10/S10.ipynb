{
 "cells": [
  {
   "cell_type": "markdown",
   "metadata": {},
   "source": [
    "ERAv2 Session10- Custom ResNet on CIFAR10 - Shailen Kumar Dalbehera"
   ]
  },
  {
   "cell_type": "code",
   "execution_count": null,
   "metadata": {},
   "outputs": [],
   "source": [
    "!git clone https://github.com/shylane/ERAv2.git"
   ]
  },
  {
   "cell_type": "code",
   "execution_count": 7,
   "metadata": {},
   "outputs": [],
   "source": [
    "from s10_custom_resnet_cifar10.utils import train_data, test_data, find_lr\n",
    "from s10_custom_resnet_cifar10.model import CustomResNet\n",
    "from s10_custom_resnet_cifar10.train import train_custom_resnet\n",
    "from torch.utils.data import DataLoader\n",
    "import torch\n"
   ]
  },
  {
   "cell_type": "markdown",
   "metadata": {},
   "source": [
    "CUDA & SEED"
   ]
  },
  {
   "cell_type": "code",
   "execution_count": 3,
   "metadata": {},
   "outputs": [
    {
     "name": "stdout",
     "output_type": "stream",
     "text": [
      "CUDA Available? True\n"
     ]
    }
   ],
   "source": [
    "SEED = 42\n",
    "\n",
    "# CUDA?\n",
    "cuda = torch.cuda.is_available()\n",
    "print(\"CUDA Available?\", cuda)\n",
    "\n",
    "# For reproducibility\n",
    "torch.manual_seed(SEED)\n",
    "\n",
    "if cuda:\n",
    "    torch.cuda.manual_seed(SEED)\n",
    "\n",
    "device = torch.device(\"cuda\" if cuda else \"cpu\")"
   ]
  },
  {
   "cell_type": "markdown",
   "metadata": {},
   "source": [
    "Load data using functions in utils and parameters including batch size of 512"
   ]
  },
  {
   "cell_type": "code",
   "execution_count": 4,
   "metadata": {},
   "outputs": [
    {
     "name": "stdout",
     "output_type": "stream",
     "text": [
      "Files already downloaded and verified\n",
      "Files already downloaded and verified\n"
     ]
    }
   ],
   "source": [
    "# dataloader arguments\n",
    "dataloader_args = dict(shuffle=True, batch_size=512, num_workers=4, pin_memory=True) if cuda else dict(shuffle=True, batch_size=64)\n",
    "\n",
    "test_loader = DataLoader(test_data(), **dataloader_args)\n",
    "train_loader = DataLoader(train_data(), **dataloader_args)"
   ]
  },
  {
   "cell_type": "markdown",
   "metadata": {},
   "source": [
    "Visualizing training data"
   ]
  },
  {
   "cell_type": "code",
   "execution_count": 5,
   "metadata": {},
   "outputs": [
    {
     "name": "stderr",
     "output_type": "stream",
     "text": [
      "Clipping input data to the valid range for imshow with RGB data ([0..1] for floats or [0..255] for integers).\n"
     ]
    },
    {
     "data": {
      "image/png": "[encoded data removed]",
      "text/plain": [
       "<Figure size 640x480 with 1 Axes>"
      ]
     },
     "metadata": {},
     "output_type": "display_data"
    },
    {
     "name": "stdout",
     "output_type": "stream",
     "text": [
      "frog  plane deer  car  \n"
     ]
    }
   ],
   "source": [
    "import matplotlib.pyplot as plt\n",
    "import numpy as np\n",
    "\n",
    "# functions to show an image\n",
    "\n",
    "\n",
    "def imshow(img):\n",
    "    img = img / 2 + 0.5     # unnormalize\n",
    "    npimg = img.numpy()\n",
    "    plt.imshow(np.transpose(npimg, (1, 2, 0)))\n",
    "    plt.show()\n",
    "\n",
    "\n",
    "# get some random training images\n",
    "dataiter = iter(train_loader)\n",
    "images, labels = next(dataiter)\n",
    "classes = ('plane', 'car', 'bird', 'cat',\n",
    "           'deer', 'dog', 'frog', 'horse', 'ship', 'truck')\n",
    "\n",
    "import torchvision\n",
    "# show images\n",
    "imshow(torchvision.utils.make_grid(images[:4]))\n",
    "# print labels\n",
    "print(' '.join(f'{classes[labels[j]]:5s}' for j in range(4)))"
   ]
  },
  {
   "cell_type": "markdown",
   "metadata": {},
   "source": [
    "Find LR (Leslie N. Smith approach)"
   ]
  },
  {
   "cell_type": "code",
   "execution_count": 8,
   "metadata": {},
   "outputs": [
    {
     "name": "stderr",
     "output_type": "stream",
     "text": [
      "  0%|          | 0/100 [00:00<?, ?it/s]"
     ]
    },
    {
     "ename": "",
     "evalue": "",
     "output_type": "error",
     "traceback": [
      "\u001b[1;31mThe Kernel crashed while executing code in the current cell or a previous cell. \n",
      "\u001b[1;31mPlease review the code in the cell(s) to identify a possible cause of the failure. \n",
      "\u001b[1;31mClick <a href='https://aka.ms/vscodeJupyterKernelCrash'>here</a> for more info. \n",
      "\u001b[1;31mView Jupyter <a href='command:jupyter.viewOutput'>log</a> for further details."
     ]
    }
   ],
   "source": [
    "model = CustomResNet().to(device)\n",
    "optimizer = torch.optim.Adam(model.parameters())\n",
    "criterion = torch.nn.CrossEntropyLoss()\n",
    "\n",
    "find_lr(model = model,\n",
    "        optimizer = optimizer,\n",
    "        criterion = criterion,\n",
    "        train_loader=train_loader,\n",
    "        test_loader=test_loader,\n",
    "        device=device)"
   ]
  },
  {
   "cell_type": "code",
   "execution_count": null,
   "metadata": {},
   "outputs": [
    {
     "name": "stdout",
     "output_type": "stream",
     "text": [
      "----------------------------------------------------------------\n",
      "        Layer (type)               Output Shape         Param #\n",
      "================================================================\n",
      "            Conv2d-1           [-1, 64, 32, 32]           1,792\n",
      "       BatchNorm2d-2           [-1, 64, 32, 32]             128\n",
      "              ReLU-3           [-1, 64, 32, 32]               0\n",
      "         PrepLayer-4           [-1, 64, 32, 32]               0\n",
      "            Conv2d-5          [-1, 128, 32, 32]          73,856\n",
      "         MaxPool2d-6          [-1, 128, 16, 16]               0\n",
      "       BatchNorm2d-7          [-1, 128, 16, 16]             256\n",
      "              ReLU-8          [-1, 128, 16, 16]               0\n",
      "            Conv2d-9          [-1, 128, 16, 16]         147,584\n",
      "      BatchNorm2d-10          [-1, 128, 16, 16]             256\n",
      "             ReLU-11          [-1, 128, 16, 16]               0\n",
      "           Conv2d-12          [-1, 128, 16, 16]         147,584\n",
      "      BatchNorm2d-13          [-1, 128, 16, 16]             256\n",
      "             ReLU-14          [-1, 128, 16, 16]               0\n",
      "         ResBlock-15          [-1, 128, 16, 16]               0\n",
      "           Conv2d-16          [-1, 256, 16, 16]         295,168\n",
      "        MaxPool2d-17            [-1, 256, 8, 8]               0\n",
      "      BatchNorm2d-18            [-1, 256, 8, 8]             512\n",
      "             ReLU-19            [-1, 256, 8, 8]               0\n",
      "           Conv2d-20            [-1, 512, 8, 8]       1,180,160\n",
      "        MaxPool2d-21            [-1, 512, 4, 4]               0\n",
      "      BatchNorm2d-22            [-1, 512, 4, 4]           1,024\n",
      "             ReLU-23            [-1, 512, 4, 4]               0\n",
      "           Conv2d-24            [-1, 512, 4, 4]       2,359,808\n",
      "      BatchNorm2d-25            [-1, 512, 4, 4]           1,024\n",
      "             ReLU-26            [-1, 512, 4, 4]               0\n",
      "           Conv2d-27            [-1, 512, 4, 4]       2,359,808\n",
      "      BatchNorm2d-28            [-1, 512, 4, 4]           1,024\n",
      "             ReLU-29            [-1, 512, 4, 4]               0\n",
      "         ResBlock-30            [-1, 512, 4, 4]               0\n",
      "        MaxPool2d-31            [-1, 512, 1, 1]               0\n",
      "           Linear-32                   [-1, 10]           5,130\n",
      "          Softmax-33                   [-1, 10]               0\n",
      "================================================================\n",
      "Total params: 6,575,370\n",
      "Trainable params: 6,575,370\n",
      "Non-trainable params: 0\n",
      "----------------------------------------------------------------\n",
      "Input size (MB): 0.01\n",
      "Forward/backward pass size (MB): 7.25\n",
      "Params size (MB): 25.08\n",
      "Estimated Total Size (MB): 32.35\n",
      "----------------------------------------------------------------\n"
     ]
    },
    {
     "name": "stderr",
     "output_type": "stream",
     "text": [
      "  0%|          | 0/100 [00:00<?, ?it/s]"
     ]
    },
    {
     "ename": "",
     "evalue": "",
     "output_type": "error",
     "traceback": [
      "\u001b[1;31mThe Kernel crashed while executing code in the current cell or a previous cell. \n",
      "\u001b[1;31mPlease review the code in the cell(s) to identify a possible cause of the failure. \n",
      "\u001b[1;31mClick <a href='https://aka.ms/vscodeJupyterKernelCrash'>here</a> for more info. \n",
      "\u001b[1;31mView Jupyter <a href='command:jupyter.viewOutput'>log</a> for further details."
     ]
    }
   ],
   "source": [
    "lr_max=1.83e-02\n",
    "# Train the custom ResNet model\n",
    "train_custom_resnet(\n",
    "    model = model,\n",
    "    optimizer = optimizer,\n",
    "    criterion = criterion,\n",
    "    train_loader=train_loader,\n",
    "    test_loader=test_loader,\n",
    "    num_epochs=24,\n",
    "    max_at_epoch=5,\n",
    "    # lr_min=1e-4,\n",
    "    lr_max=lr_max,\n",
    "    device=torch.device(\"cuda\" if torch.cuda.is_available() else \"cpu\")\n",
    ")"
   ]
  },
  {
   "cell_type": "markdown",
   "metadata": {},
   "source": [
    "CODE BLOCK: 7"
   ]
  },
  {
   "cell_type": "code",
   "execution_count": null,
   "metadata": {},
   "outputs": [],
   "source": [
    "model = CustomResNet().to(device)\n",
    "summary(model, input_size=(3, 32, 32))"
   ]
  },
  {
   "cell_type": "markdown",
   "metadata": {},
   "source": [
    "CODE BLOCK: 8"
   ]
  },
  {
   "cell_type": "code",
   "execution_count": null,
   "metadata": {},
   "outputs": [],
   "source": [
    "# Data to plot accuracy and loss graphs\n",
    "train_losses = []\n",
    "test_losses = []\n",
    "train_acc = []\n",
    "test_acc = []\n",
    "\n",
    "# test_incorrect_pred = {'images': [], 'ground_truths': [], 'predicted_vals': []}"
   ]
  },
  {
   "cell_type": "markdown",
   "metadata": {},
   "source": [
    "CODE BLOCK: 9\n",
    "This block is now shifted to utils.py file and functions in next block call functions train and test from there."
   ]
  },
  {
   "cell_type": "markdown",
   "metadata": {},
   "source": [
    "CODE BLOCK: 10"
   ]
  },
  {
   "cell_type": "code",
   "execution_count": null,
   "metadata": {},
   "outputs": [],
   "source": [
    "model = Net().to(device)\n",
    "num_epochs = 20\n",
    "\n",
    "for epoch in range(1, num_epochs+1):\n",
    "  print(f'Epoch {epoch}')\n",
    "  train_acc, train_losses = train(model, device, train_loader, optimizer(model), criterion(), train_losses, train_acc)\n",
    "  test_acc, test_losses = test(model, device, test_loader, criterion(), test_losses, test_acc)\n",
    "  scheduler(model).step()"
   ]
  },
  {
   "cell_type": "markdown",
   "metadata": {},
   "source": [
    "CODE BLOCK: 11"
   ]
  },
  {
   "cell_type": "code",
   "execution_count": null,
   "metadata": {},
   "outputs": [],
   "source": [
    "# Plot the training and test accuracy and loss\n",
    "fig, axs = plt.subplots(2,2,figsize=(15,10))\n",
    "axs[0, 0].plot(train_losses)\n",
    "axs[0, 0].set_title(\"Training Loss\")\n",
    "axs[1, 0].plot(train_acc)\n",
    "axs[1, 0].set_title(\"Training Accuracy\")\n",
    "axs[0, 1].plot(test_losses)\n",
    "axs[0, 1].set_title(\"Test Loss\")\n",
    "axs[1, 1].plot(test_acc)\n",
    "axs[1, 1].set_title(\"Test Accuracy\")\n",
    "\n",
    "summary(model, input_size=(1, 28, 28))"
   ]
  }
 ],
 "metadata": {
  "kernelspec": {
   "display_name": "watsonx",
   "language": "python",
   "name": "python3"
  },
  "language_info": {
   "codemirror_mode": {
    "name": "ipython",
    "version": 3
   },
   "file_extension": ".py",
   "mimetype": "text/x-python",
   "name": "python",
   "nbconvert_exporter": "python",
   "pygments_lexer": "ipython3",
   "version": "3.11.8"
  }
 },
 "nbformat": 4,
 "nbformat_minor": 2
}
