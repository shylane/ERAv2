{
  "cells": [
    {
      "cell_type": "markdown",
      "metadata": {
        "id": "ynnS4pAi-KFQ"
      },
      "source": [
        "ERAv2 Session10- Custom ResNet on CIFAR10 - Shailen Kumar Dalbehera"
      ]
    },
    {
      "cell_type": "markdown",
      "metadata": {
        "id": "IOdp_TdH-KFR"
      },
      "source": [
        "Clone the github repo"
      ]
    },
    {
      "cell_type": "code",
      "execution_count": 10,
      "metadata": {
        "colab": {
          "base_uri": "https://localhost:8080/"
        },
        "id": "rXKpZfdu-KFR",
        "outputId": "08d39fdf-7f86-45ee-c613-0a77bebfcb55"
      },
      "outputs": [
        {
          "output_type": "stream",
          "name": "stdout",
          "text": [
            "fatal: destination path 'ERAv2' already exists and is not an empty directory.\n"
          ]
        }
      ],
      "source": [
        "!git clone https://github.com/shylane/ERAv2.git"
      ]
    },
    {
      "cell_type": "markdown",
      "metadata": {
        "id": "PmzgVsYy-KFS"
      },
      "source": [
        "Install required libraries"
      ]
    },
    {
      "cell_type": "code",
      "execution_count": 11,
      "metadata": {
        "colab": {
          "base_uri": "https://localhost:8080/"
        },
        "id": "KMOisY1R-KFS",
        "outputId": "f2ecd1d5-9e56-44c0-8578-20579b3108cf"
      },
      "outputs": [
        {
          "output_type": "stream",
          "name": "stdout",
          "text": [
            "Requirement already satisfied: torch in /usr/local/lib/python3.10/dist-packages (2.2.1+cu121)\n",
            "Requirement already satisfied: torchvision in /usr/local/lib/python3.10/dist-packages (0.17.1+cu121)\n",
            "Requirement already satisfied: torchsummary in /usr/local/lib/python3.10/dist-packages (1.5.1)\n",
            "Requirement already satisfied: matplotlib in /usr/local/lib/python3.10/dist-packages (3.7.1)\n",
            "Requirement already satisfied: tqdm in /usr/local/lib/python3.10/dist-packages (4.66.2)\n",
            "Requirement already satisfied: torch-lr-finder in /usr/local/lib/python3.10/dist-packages (0.2.1)\n",
            "Requirement already satisfied: filelock in /usr/local/lib/python3.10/dist-packages (from torch) (3.13.3)\n",
            "Requirement already satisfied: typing-extensions>=4.8.0 in /usr/local/lib/python3.10/dist-packages (from torch) (4.10.0)\n",
            "Requirement already satisfied: sympy in /usr/local/lib/python3.10/dist-packages (from torch) (1.12)\n",
            "Requirement already satisfied: networkx in /usr/local/lib/python3.10/dist-packages (from torch) (3.2.1)\n",
            "Requirement already satisfied: jinja2 in /usr/local/lib/python3.10/dist-packages (from torch) (3.1.3)\n",
            "Requirement already satisfied: fsspec in /usr/local/lib/python3.10/dist-packages (from torch) (2023.6.0)\n",
            "Requirement already satisfied: nvidia-cuda-nvrtc-cu12==12.1.105 in /usr/local/lib/python3.10/dist-packages (from torch) (12.1.105)\n",
            "Requirement already satisfied: nvidia-cuda-runtime-cu12==12.1.105 in /usr/local/lib/python3.10/dist-packages (from torch) (12.1.105)\n",
            "Requirement already satisfied: nvidia-cuda-cupti-cu12==12.1.105 in /usr/local/lib/python3.10/dist-packages (from torch) (12.1.105)\n",
            "Requirement already satisfied: nvidia-cudnn-cu12==8.9.2.26 in /usr/local/lib/python3.10/dist-packages (from torch) (8.9.2.26)\n",
            "Requirement already satisfied: nvidia-cublas-cu12==12.1.3.1 in /usr/local/lib/python3.10/dist-packages (from torch) (12.1.3.1)\n",
            "Requirement already satisfied: nvidia-cufft-cu12==11.0.2.54 in /usr/local/lib/python3.10/dist-packages (from torch) (11.0.2.54)\n",
            "Requirement already satisfied: nvidia-curand-cu12==10.3.2.106 in /usr/local/lib/python3.10/dist-packages (from torch) (10.3.2.106)\n",
            "Requirement already satisfied: nvidia-cusolver-cu12==11.4.5.107 in /usr/local/lib/python3.10/dist-packages (from torch) (11.4.5.107)\n",
            "Requirement already satisfied: nvidia-cusparse-cu12==12.1.0.106 in /usr/local/lib/python3.10/dist-packages (from torch) (12.1.0.106)\n",
            "Requirement already satisfied: nvidia-nccl-cu12==2.19.3 in /usr/local/lib/python3.10/dist-packages (from torch) (2.19.3)\n",
            "Requirement already satisfied: nvidia-nvtx-cu12==12.1.105 in /usr/local/lib/python3.10/dist-packages (from torch) (12.1.105)\n",
            "Requirement already satisfied: triton==2.2.0 in /usr/local/lib/python3.10/dist-packages (from torch) (2.2.0)\n",
            "Requirement already satisfied: nvidia-nvjitlink-cu12 in /usr/local/lib/python3.10/dist-packages (from nvidia-cusolver-cu12==11.4.5.107->torch) (12.4.127)\n",
            "Requirement already satisfied: numpy in /usr/local/lib/python3.10/dist-packages (from torchvision) (1.25.2)\n",
            "Requirement already satisfied: pillow!=8.3.*,>=5.3.0 in /usr/local/lib/python3.10/dist-packages (from torchvision) (9.4.0)\n",
            "Requirement already satisfied: contourpy>=1.0.1 in /usr/local/lib/python3.10/dist-packages (from matplotlib) (1.2.0)\n",
            "Requirement already satisfied: cycler>=0.10 in /usr/local/lib/python3.10/dist-packages (from matplotlib) (0.12.1)\n",
            "Requirement already satisfied: fonttools>=4.22.0 in /usr/local/lib/python3.10/dist-packages (from matplotlib) (4.50.0)\n",
            "Requirement already satisfied: kiwisolver>=1.0.1 in /usr/local/lib/python3.10/dist-packages (from matplotlib) (1.4.5)\n",
            "Requirement already satisfied: packaging>=20.0 in /usr/local/lib/python3.10/dist-packages (from matplotlib) (24.0)\n",
            "Requirement already satisfied: pyparsing>=2.3.1 in /usr/local/lib/python3.10/dist-packages (from matplotlib) (3.1.2)\n",
            "Requirement already satisfied: python-dateutil>=2.7 in /usr/local/lib/python3.10/dist-packages (from matplotlib) (2.8.2)\n",
            "Requirement already satisfied: six>=1.5 in /usr/local/lib/python3.10/dist-packages (from python-dateutil>=2.7->matplotlib) (1.16.0)\n",
            "Requirement already satisfied: MarkupSafe>=2.0 in /usr/local/lib/python3.10/dist-packages (from jinja2->torch) (2.1.5)\n",
            "Requirement already satisfied: mpmath>=0.19 in /usr/local/lib/python3.10/dist-packages (from sympy->torch) (1.3.0)\n"
          ]
        }
      ],
      "source": [
        "!pip install torch torchvision torchsummary matplotlib tqdm torch-lr-finder"
      ]
    },
    {
      "cell_type": "code",
      "execution_count": 12,
      "metadata": {
        "id": "5W1epxuV-KFS"
      },
      "outputs": [],
      "source": [
        "from ERAv2.s10_custom_resnet_cifar10.utils import train_data, test_data, find_lr\n",
        "from ERAv2.s10_custom_resnet_cifar10.model import CustomResNet\n",
        "from ERAv2.s10_custom_resnet_cifar10.train import train_custom_resnet\n",
        "from torch.utils.data import DataLoader\n",
        "import torch\n"
      ]
    },
    {
      "cell_type": "markdown",
      "metadata": {
        "id": "jfJNQonl-KFS"
      },
      "source": [
        "CUDA & SEED"
      ]
    },
    {
      "cell_type": "code",
      "execution_count": 13,
      "metadata": {
        "colab": {
          "base_uri": "https://localhost:8080/"
        },
        "id": "je-XPFrw-KFS",
        "outputId": "1dd15362-90f0-4c45-fbf0-02e33f428125"
      },
      "outputs": [
        {
          "output_type": "stream",
          "name": "stdout",
          "text": [
            "CUDA Available? True\n"
          ]
        }
      ],
      "source": [
        "SEED = 42\n",
        "\n",
        "# CUDA?\n",
        "cuda = torch.cuda.is_available()\n",
        "print(\"CUDA Available?\", cuda)\n",
        "\n",
        "# For reproducibility\n",
        "torch.manual_seed(SEED)\n",
        "\n",
        "if cuda:\n",
        "    torch.cuda.manual_seed(SEED)\n",
        "\n",
        "device = torch.device(\"cuda\" if cuda else \"cpu\")"
      ]
    },
    {
      "cell_type": "markdown",
      "metadata": {
        "id": "rVHQ0QVS-KFT"
      },
      "source": [
        "Load data using functions in utils and parameters including batch size of 512"
      ]
    },
    {
      "cell_type": "code",
      "execution_count": 14,
      "metadata": {
        "colab": {
          "base_uri": "https://localhost:8080/"
        },
        "id": "GjcQZNHy-KFT",
        "outputId": "d1f33d91-50ad-49c8-a195-0af36a8ae0bd"
      },
      "outputs": [
        {
          "output_type": "stream",
          "name": "stdout",
          "text": [
            "Files already downloaded and verified\n",
            "Files already downloaded and verified\n"
          ]
        }
      ],
      "source": [
        "# dataloader arguments\n",
        "dataloader_args = dict(shuffle=True, batch_size=512, num_workers=4, pin_memory=True) if cuda else dict(shuffle=True, batch_size=64)\n",
        "\n",
        "test_loader = DataLoader(test_data(), **dataloader_args)\n",
        "train_loader = DataLoader(train_data(), **dataloader_args)"
      ]
    },
    {
      "cell_type": "markdown",
      "metadata": {
        "id": "Ef0AB4em-KFT"
      },
      "source": [
        "Visualizing training data"
      ]
    },
    {
      "cell_type": "code",
      "execution_count": 8,
      "metadata": {
        "colab": {
          "base_uri": "https://localhost:8080/",
          "height": 228
        },
        "id": "TXXvE2z_-KFT",
        "outputId": "e637b2da-4811-4acb-8ac5-e9ef801ff975"
      },
      "outputs": [
        {
          "output_type": "stream",
          "name": "stderr",
          "text": [
            "WARNING:matplotlib.image:Clipping input data to the valid range for imshow with RGB data ([0..1] for floats or [0..255] for integers).\n"
          ]
        },
        {
          "output_type": "display_data",
          "data": {
            "text/plain": [
              "<Figure size 640x480 with 1 Axes>"
            ],
            "image/png": "[encoded data removed]"
          },
          "metadata": {}
        },
        {
          "output_type": "stream",
          "name": "stdout",
          "text": [
            "frog  plane deer  car  \n"
          ]
        }
      ],
      "source": [
        "import matplotlib.pyplot as plt\n",
        "import numpy as np\n",
        "\n",
        "# functions to show an image\n",
        "\n",
        "\n",
        "def imshow(img):\n",
        "    img = img / 2 + 0.5     # unnormalize\n",
        "    npimg = img.numpy()\n",
        "    plt.imshow(np.transpose(npimg, (1, 2, 0)))\n",
        "    plt.show()\n",
        "\n",
        "\n",
        "# get some random training images\n",
        "dataiter = iter(train_loader)\n",
        "images, labels = next(dataiter)\n",
        "classes = ('plane', 'car', 'bird', 'cat',\n",
        "           'deer', 'dog', 'frog', 'horse', 'ship', 'truck')\n",
        "\n",
        "import torchvision\n",
        "# show images\n",
        "imshow(torchvision.utils.make_grid(images[:4]))\n",
        "# print labels\n",
        "print(' '.join(f'{classes[labels[j]]:5s}' for j in range(4)))"
      ]
    },
    {
      "cell_type": "markdown",
      "metadata": {
        "id": "7L_BGWJg-KFU"
      },
      "source": [
        "Find LR (Leslie N. Smith approach)"
      ]
    },
    {
      "cell_type": "code",
      "execution_count": 15,
      "metadata": {
        "colab": {
          "base_uri": "https://localhost:8080/",
          "height": 533,
          "referenced_widgets": [
            "72a5549648aa4a4ca7e0107a1fa5b0f5",
            "9260dcec44ab4b2f94883a176b78e507",
            "c86af30be5584e8a9f267510940bbd6b",
            "82b84089aca545dcbd9f6defef2354ff",
            "4c0cb3de9e3c4ce7846f92e23f350247",
            "af76a371e46343029098aef27c73283a",
            "50a190cde2f94eafaeda1808ecf42373",
            "b2987aa179ef417fba3b41f4b040225a",
            "cb4900ff1bd34c70b7fc0939788cb438",
            "1d1e1a50318e4debba6889b33304cfdd",
            "6ed7e732a7a3463ca60de08dc5549b5d"
          ]
        },
        "id": "UtRwfwf4-KFU",
        "outputId": "14212148-2221-421a-a494-c37f03228e38"
      },
      "outputs": [
        {
          "output_type": "display_data",
          "data": {
            "text/plain": [
              "  0%|          | 0/100 [00:00<?, ?it/s]"
            ],
            "application/vnd.jupyter.widget-view+json": {
              "version_major": 2,
              "version_minor": 0,
              "model_id": "72a5549648aa4a4ca7e0107a1fa5b0f5"
            }
          },
          "metadata": {}
        },
        {
          "output_type": "stream",
          "name": "stdout",
          "text": [
            "Learning rate search finished. See the graph with {finder_name}.plot()\n",
            "LR suggestion: steepest gradient\n",
            "Suggested LR: 9.33E-03\n"
          ]
        },
        {
          "output_type": "display_data",
          "data": {
            "text/plain": [
              "<Figure size 640x480 with 1 Axes>"
            ],
            "image/png": "[encoded data removed]"
          },
          "metadata": {}
        }
      ],
      "source": [
        "model = CustomResNet().to(device)\n",
        "optimizer = torch.optim.Adam(model.parameters())\n",
        "criterion = torch.nn.CrossEntropyLoss()\n",
        "\n",
        "find_lr(model = model,\n",
        "        optimizer = optimizer,\n",
        "        criterion = criterion,\n",
        "        train_loader=train_loader,\n",
        "        test_loader=test_loader,\n",
        "        device=device)"
      ]
    },
    {
      "cell_type": "code",
      "execution_count": 16,
      "metadata": {
        "colab": {
          "base_uri": "https://localhost:8080/"
        },
        "id": "A5qzhmXJ-KFU",
        "outputId": "50d9d50e-de33-49c7-e605-1ffc2c955d94"
      },
      "outputs": [
        {
          "output_type": "stream",
          "name": "stdout",
          "text": [
            "----------------------------------------------------------------\n",
            "        Layer (type)               Output Shape         Param #\n",
            "================================================================\n",
            "            Conv2d-1           [-1, 64, 32, 32]           1,792\n",
            "       BatchNorm2d-2           [-1, 64, 32, 32]             128\n",
            "              ReLU-3           [-1, 64, 32, 32]               0\n",
            "         PrepLayer-4           [-1, 64, 32, 32]               0\n",
            "            Conv2d-5          [-1, 128, 32, 32]          73,856\n",
            "         MaxPool2d-6          [-1, 128, 16, 16]               0\n",
            "       BatchNorm2d-7          [-1, 128, 16, 16]             256\n",
            "              ReLU-8          [-1, 128, 16, 16]               0\n",
            "            Conv2d-9          [-1, 128, 16, 16]         147,584\n",
            "      BatchNorm2d-10          [-1, 128, 16, 16]             256\n",
            "             ReLU-11          [-1, 128, 16, 16]               0\n",
            "           Conv2d-12          [-1, 128, 16, 16]         147,584\n",
            "      BatchNorm2d-13          [-1, 128, 16, 16]             256\n",
            "             ReLU-14          [-1, 128, 16, 16]               0\n",
            "         ResBlock-15          [-1, 128, 16, 16]               0\n",
            "           Conv2d-16          [-1, 256, 16, 16]         295,168\n",
            "        MaxPool2d-17            [-1, 256, 8, 8]               0\n",
            "      BatchNorm2d-18            [-1, 256, 8, 8]             512\n",
            "             ReLU-19            [-1, 256, 8, 8]               0\n",
            "           Conv2d-20            [-1, 512, 8, 8]       1,180,160\n",
            "        MaxPool2d-21            [-1, 512, 4, 4]               0\n",
            "      BatchNorm2d-22            [-1, 512, 4, 4]           1,024\n",
            "             ReLU-23            [-1, 512, 4, 4]               0\n",
            "           Conv2d-24            [-1, 512, 4, 4]       2,359,808\n",
            "      BatchNorm2d-25            [-1, 512, 4, 4]           1,024\n",
            "             ReLU-26            [-1, 512, 4, 4]               0\n",
            "           Conv2d-27            [-1, 512, 4, 4]       2,359,808\n",
            "      BatchNorm2d-28            [-1, 512, 4, 4]           1,024\n",
            "             ReLU-29            [-1, 512, 4, 4]               0\n",
            "         ResBlock-30            [-1, 512, 4, 4]               0\n",
            "        MaxPool2d-31            [-1, 512, 1, 1]               0\n",
            "           Linear-32                   [-1, 10]           5,130\n",
            "          Softmax-33                   [-1, 10]               0\n",
            "================================================================\n",
            "Total params: 6,575,370\n",
            "Trainable params: 6,575,370\n",
            "Non-trainable params: 0\n",
            "----------------------------------------------------------------\n",
            "Input size (MB): 0.01\n",
            "Forward/backward pass size (MB): 7.25\n",
            "Params size (MB): 25.08\n",
            "Estimated Total Size (MB): 32.35\n",
            "----------------------------------------------------------------\n",
            "Epoch [1/24], Train Loss: 2.0820, Train Accuracy: 37.38%, Test Loss: 2.0404, Test Accuracy: 41.62%\n",
            "Epoch [2/24], Train Loss: 1.9395, Train Accuracy: 52.23%, Test Loss: 1.9470, Test Accuracy: 50.90%\n",
            "Epoch [3/24], Train Loss: 1.8280, Train Accuracy: 63.46%, Test Loss: 1.8048, Test Accuracy: 65.48%\n",
            "Epoch [4/24], Train Loss: 1.7352, Train Accuracy: 72.79%, Test Loss: 1.7644, Test Accuracy: 69.62%\n",
            "Epoch [5/24], Train Loss: 1.7002, Train Accuracy: 76.40%, Test Loss: 1.7730, Test Accuracy: 68.57%\n",
            "Epoch [6/24], Train Loss: 1.6779, Train Accuracy: 78.38%, Test Loss: 1.6970, Test Accuracy: 76.33%\n",
            "Epoch [7/24], Train Loss: 1.6564, Train Accuracy: 80.55%, Test Loss: 1.7508, Test Accuracy: 70.74%\n",
            "Epoch [8/24], Train Loss: 1.6388, Train Accuracy: 82.35%, Test Loss: 1.6564, Test Accuracy: 80.55%\n",
            "Epoch [9/24], Train Loss: 1.6240, Train Accuracy: 83.81%, Test Loss: 1.6449, Test Accuracy: 81.57%\n",
            "Epoch [10/24], Train Loss: 1.6118, Train Accuracy: 85.00%, Test Loss: 1.6273, Test Accuracy: 83.38%\n",
            "Epoch [11/24], Train Loss: 1.6015, Train Accuracy: 86.11%, Test Loss: 1.6112, Test Accuracy: 85.09%\n",
            "Epoch [12/24], Train Loss: 1.5890, Train Accuracy: 87.36%, Test Loss: 1.6112, Test Accuracy: 84.98%\n",
            "Epoch [13/24], Train Loss: 1.5811, Train Accuracy: 88.08%, Test Loss: 1.6053, Test Accuracy: 85.52%\n",
            "Epoch [14/24], Train Loss: 1.5743, Train Accuracy: 88.80%, Test Loss: 1.6006, Test Accuracy: 86.06%\n",
            "Epoch [15/24], Train Loss: 1.5671, Train Accuracy: 89.53%, Test Loss: 1.5903, Test Accuracy: 87.03%\n",
            "Epoch [16/24], Train Loss: 1.5582, Train Accuracy: 90.53%, Test Loss: 1.5883, Test Accuracy: 87.25%\n",
            "Epoch [17/24], Train Loss: 1.5512, Train Accuracy: 91.13%, Test Loss: 1.5817, Test Accuracy: 87.87%\n",
            "Epoch [18/24], Train Loss: 1.5463, Train Accuracy: 91.64%, Test Loss: 1.5751, Test Accuracy: 88.69%\n",
            "Epoch [19/24], Train Loss: 1.5395, Train Accuracy: 92.34%, Test Loss: 1.5762, Test Accuracy: 88.53%\n",
            "Epoch [20/24], Train Loss: 1.5329, Train Accuracy: 92.96%, Test Loss: 1.5688, Test Accuracy: 89.20%\n",
            "Epoch [21/24], Train Loss: 1.5266, Train Accuracy: 93.63%, Test Loss: 1.5649, Test Accuracy: 89.68%\n",
            "Epoch [22/24], Train Loss: 1.5214, Train Accuracy: 94.18%, Test Loss: 1.5622, Test Accuracy: 89.81%\n",
            "Epoch [23/24], Train Loss: 1.5185, Train Accuracy: 94.46%, Test Loss: 1.5579, Test Accuracy: 90.52%\n",
            "Target accuracy reached!\n"
          ]
        }
      ],
      "source": [
        "lr_max=1.83e-03 # selecting a number after few iterations such that target accuracy is achieved\n",
        "# Train the custom ResNet model\n",
        "train_custom_resnet(\n",
        "    model = model,\n",
        "    optimizer = optimizer,\n",
        "    criterion = criterion,\n",
        "    train_loader=train_loader,\n",
        "    test_loader=test_loader,\n",
        "    num_epochs=24,\n",
        "    max_at_epoch=5,\n",
        "    # lr_min=1e-4,\n",
        "    lr_max=lr_max,\n",
        "    device=torch.device(\"cuda\" if torch.cuda.is_available() else \"cpu\")\n",
        ")"
      ]
    }
  ],
  "metadata": {
    "kernelspec": {
      "display_name": "watsonx",
      "language": "python",
      "name": "python3"
    },
    "language_info": {
      "codemirror_mode": {
        "name": "ipython",
        "version": 3
      },
      "file_extension": ".py",
      "mimetype": "text/x-python",
      "name": "python",
      "nbconvert_exporter": "python",
      "pygments_lexer": "ipython3",
      "version": "3.11.8"
    },
    "colab": {
      "provenance": []
    },
    "widgets": {
      "application/vnd.jupyter.widget-state+json": {
        "72a5549648aa4a4ca7e0107a1fa5b0f5": {
          "model_module": "@jupyter-widgets/controls",
          "model_name": "HBoxModel",
          "model_module_version": "1.5.0",
          "state": {
            "_dom_classes": [],
            "_model_module": "@jupyter-widgets/controls",
            "_model_module_version": "1.5.0",
            "_model_name": "HBoxModel",
            "_view_count": null,
            "_view_module": "@jupyter-widgets/controls",
            "_view_module_version": "1.5.0",
            "_view_name": "HBoxView",
            "box_style": "",
            "children": [
              "IPY_MODEL_9260dcec44ab4b2f94883a176b78e507",
              "IPY_MODEL_c86af30be5584e8a9f267510940bbd6b",
              "IPY_MODEL_82b84089aca545dcbd9f6defef2354ff"
            ],
            "layout": "IPY_MODEL_4c0cb3de9e3c4ce7846f92e23f350247"
          }
        },
        "9260dcec44ab4b2f94883a176b78e507": {
          "model_module": "@jupyter-widgets/controls",
          "model_name": "HTMLModel",
          "model_module_version": "1.5.0",
          "state": {
            "_dom_classes": [],
            "_model_module": "@jupyter-widgets/controls",
            "_model_module_version": "1.5.0",
            "_model_name": "HTMLModel",
            "_view_count": null,
            "_view_module": "@jupyter-widgets/controls",
            "_view_module_version": "1.5.0",
            "_view_name": "HTMLView",
            "description": "",
            "description_tooltip": null,
            "layout": "IPY_MODEL_af76a371e46343029098aef27c73283a",
            "placeholder": "​",
            "style": "IPY_MODEL_50a190cde2f94eafaeda1808ecf42373",
            "value": "100%"
          }
        },
        "c86af30be5584e8a9f267510940bbd6b": {
          "model_module": "@jupyter-widgets/controls",
          "model_name": "FloatProgressModel",
          "model_module_version": "1.5.0",
          "state": {
            "_dom_classes": [],
            "_model_module": "@jupyter-widgets/controls",
            "_model_module_version": "1.5.0",
            "_model_name": "FloatProgressModel",
            "_view_count": null,
            "_view_module": "@jupyter-widgets/controls",
            "_view_module_version": "1.5.0",
            "_view_name": "ProgressView",
            "bar_style": "success",
            "description": "",
            "description_tooltip": null,
            "layout": "IPY_MODEL_b2987aa179ef417fba3b41f4b040225a",
            "max": 100,
            "min": 0,
            "orientation": "horizontal",
            "style": "IPY_MODEL_cb4900ff1bd34c70b7fc0939788cb438",
            "value": 100
          }
        },
        "82b84089aca545dcbd9f6defef2354ff": {
          "model_module": "@jupyter-widgets/controls",
          "model_name": "HTMLModel",
          "model_module_version": "1.5.0",
          "state": {
            "_dom_classes": [],
            "_model_module": "@jupyter-widgets/controls",
            "_model_module_version": "1.5.0",
            "_model_name": "HTMLModel",
            "_view_count": null,
            "_view_module": "@jupyter-widgets/controls",
            "_view_module_version": "1.5.0",
            "_view_name": "HTMLView",
            "description": "",
            "description_tooltip": null,
            "layout": "IPY_MODEL_1d1e1a50318e4debba6889b33304cfdd",
            "placeholder": "​",
            "style": "IPY_MODEL_6ed7e732a7a3463ca60de08dc5549b5d",
            "value": " 100/100 [08:22&lt;00:00,  5.40s/it]"
          }
        },
        "4c0cb3de9e3c4ce7846f92e23f350247": {
          "model_module": "@jupyter-widgets/base",
          "model_name": "LayoutModel",
          "model_module_version": "1.2.0",
          "state": {
            "_model_module": "@jupyter-widgets/base",
            "_model_module_version": "1.2.0",
            "_model_name": "LayoutModel",
            "_view_count": null,
            "_view_module": "@jupyter-widgets/base",
            "_view_module_version": "1.2.0",
            "_view_name": "LayoutView",
            "align_content": null,
            "align_items": null,
            "align_self": null,
            "border": null,
            "bottom": null,
            "display": null,
            "flex": null,
            "flex_flow": null,
            "grid_area": null,
            "grid_auto_columns": null,
            "grid_auto_flow": null,
            "grid_auto_rows": null,
            "grid_column": null,
            "grid_gap": null,
            "grid_row": null,
            "grid_template_areas": null,
            "grid_template_columns": null,
            "grid_template_rows": null,
            "height": null,
            "justify_content": null,
            "justify_items": null,
            "left": null,
            "margin": null,
            "max_height": null,
            "max_width": null,
            "min_height": null,
            "min_width": null,
            "object_fit": null,
            "object_position": null,
            "order": null,
            "overflow": null,
            "overflow_x": null,
            "overflow_y": null,
            "padding": null,
            "right": null,
            "top": null,
            "visibility": null,
            "width": null
          }
        },
        "af76a371e46343029098aef27c73283a": {
          "model_module": "@jupyter-widgets/base",
          "model_name": "LayoutModel",
          "model_module_version": "1.2.0",
          "state": {
            "_model_module": "@jupyter-widgets/base",
            "_model_module_version": "1.2.0",
            "_model_name": "LayoutModel",
            "_view_count": null,
            "_view_module": "@jupyter-widgets/base",
            "_view_module_version": "1.2.0",
            "_view_name": "LayoutView",
            "align_content": null,
            "align_items": null,
            "align_self": null,
            "border": null,
            "bottom": null,
            "display": null,
            "flex": null,
            "flex_flow": null,
            "grid_area": null,
            "grid_auto_columns": null,
            "grid_auto_flow": null,
            "grid_auto_rows": null,
            "grid_column": null,
            "grid_gap": null,
            "grid_row": null,
            "grid_template_areas": null,
            "grid_template_columns": null,
            "grid_template_rows": null,
            "height": null,
            "justify_content": null,
            "justify_items": null,
            "left": null,
            "margin": null,
            "max_height": null,
            "max_width": null,
            "min_height": null,
            "min_width": null,
            "object_fit": null,
            "object_position": null,
            "order": null,
            "overflow": null,
            "overflow_x": null,
            "overflow_y": null,
            "padding": null,
            "right": null,
            "top": null,
            "visibility": null,
            "width": null
          }
        },
        "50a190cde2f94eafaeda1808ecf42373": {
          "model_module": "@jupyter-widgets/controls",
          "model_name": "DescriptionStyleModel",
          "model_module_version": "1.5.0",
          "state": {
            "_model_module": "@jupyter-widgets/controls",
            "_model_module_version": "1.5.0",
            "_model_name": "DescriptionStyleModel",
            "_view_count": null,
            "_view_module": "@jupyter-widgets/base",
            "_view_module_version": "1.2.0",
            "_view_name": "StyleView",
            "description_width": ""
          }
        },
        "b2987aa179ef417fba3b41f4b040225a": {
          "model_module": "@jupyter-widgets/base",
          "model_name": "LayoutModel",
          "model_module_version": "1.2.0",
          "state": {
            "_model_module": "@jupyter-widgets/base",
            "_model_module_version": "1.2.0",
            "_model_name": "LayoutModel",
            "_view_count": null,
            "_view_module": "@jupyter-widgets/base",
            "_view_module_version": "1.2.0",
            "_view_name": "LayoutView",
            "align_content": null,
            "align_items": null,
            "align_self": null,
            "border": null,
            "bottom": null,
            "display": null,
            "flex": null,
            "flex_flow": null,
            "grid_area": null,
            "grid_auto_columns": null,
            "grid_auto_flow": null,
            "grid_auto_rows": null,
            "grid_column": null,
            "grid_gap": null,
            "grid_row": null,
            "grid_template_areas": null,
            "grid_template_columns": null,
            "grid_template_rows": null,
            "height": null,
            "justify_content": null,
            "justify_items": null,
            "left": null,
            "margin": null,
            "max_height": null,
            "max_width": null,
            "min_height": null,
            "min_width": null,
            "object_fit": null,
            "object_position": null,
            "order": null,
            "overflow": null,
            "overflow_x": null,
            "overflow_y": null,
            "padding": null,
            "right": null,
            "top": null,
            "visibility": null,
            "width": null
          }
        },
        "cb4900ff1bd34c70b7fc0939788cb438": {
          "model_module": "@jupyter-widgets/controls",
          "model_name": "ProgressStyleModel",
          "model_module_version": "1.5.0",
          "state": {
            "_model_module": "@jupyter-widgets/controls",
            "_model_module_version": "1.5.0",
            "_model_name": "ProgressStyleModel",
            "_view_count": null,
            "_view_module": "@jupyter-widgets/base",
            "_view_module_version": "1.2.0",
            "_view_name": "StyleView",
            "bar_color": null,
            "description_width": ""
          }
        },
        "1d1e1a50318e4debba6889b33304cfdd": {
          "model_module": "@jupyter-widgets/base",
          "model_name": "LayoutModel",
          "model_module_version": "1.2.0",
          "state": {
            "_model_module": "@jupyter-widgets/base",
            "_model_module_version": "1.2.0",
            "_model_name": "LayoutModel",
            "_view_count": null,
            "_view_module": "@jupyter-widgets/base",
            "_view_module_version": "1.2.0",
            "_view_name": "LayoutView",
            "align_content": null,
            "align_items": null,
            "align_self": null,
            "border": null,
            "bottom": null,
            "display": null,
            "flex": null,
            "flex_flow": null,
            "grid_area": null,
            "grid_auto_columns": null,
            "grid_auto_flow": null,
            "grid_auto_rows": null,
            "grid_column": null,
            "grid_gap": null,
            "grid_row": null,
            "grid_template_areas": null,
            "grid_template_columns": null,
            "grid_template_rows": null,
            "height": null,
            "justify_content": null,
            "justify_items": null,
            "left": null,
            "margin": null,
            "max_height": null,
            "max_width": null,
            "min_height": null,
            "min_width": null,
            "object_fit": null,
            "object_position": null,
            "order": null,
            "overflow": null,
            "overflow_x": null,
            "overflow_y": null,
            "padding": null,
            "right": null,
            "top": null,
            "visibility": null,
            "width": null
          }
        },
        "6ed7e732a7a3463ca60de08dc5549b5d": {
          "model_module": "@jupyter-widgets/controls",
          "model_name": "DescriptionStyleModel",
          "model_module_version": "1.5.0",
          "state": {
            "_model_module": "@jupyter-widgets/controls",
            "_model_module_version": "1.5.0",
            "_model_name": "DescriptionStyleModel",
            "_view_count": null,
            "_view_module": "@jupyter-widgets/base",
            "_view_module_version": "1.2.0",
            "_view_name": "StyleView",
            "description_width": ""
          }
        }
      }
    }
  },
  "nbformat": 4,
  "nbformat_minor": 0
}